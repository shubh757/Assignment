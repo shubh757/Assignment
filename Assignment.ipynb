{
 "cells": [
  {
   "cell_type": "markdown",
   "id": "b607ee74-8b37-4b69-8683-900cb852fc3c",
   "metadata": {},
   "source": [
    "## The Person class has a constructor that takes name and age as arguments and assigns them to the object's attributes. The introduce method is then invoked on the object to introduce the person."
   ]
  },
  {
   "cell_type": "code",
   "execution_count": 1,
   "id": "a4c81915-bb3d-4ccd-975a-9490f0c65d28",
   "metadata": {},
   "outputs": [
    {
     "name": "stdout",
     "output_type": "stream",
     "text": [
      "Hello, my name is Pooja and I am 23 years old.\n"
     ]
    }
   ],
   "source": [
    "class Person:\n",
    "    def __init__(self, name, age):\n",
    "        self.name = name\n",
    "        self.age = age\n",
    "    def introduce(self):\n",
    "        print(f\"Hello, my name is {self.name} and I am {self.age} years old.\")\n",
    "person = Person(\"Pooja\", 23)\n",
    "person.introduce()"
   ]
  },
  {
   "cell_type": "markdown",
   "id": "216e28f7-7e6f-46c4-934e-bfb95b42cd11",
   "metadata": {},
   "source": [
    "## Q2.The Car class has a constructor that takes brand and model as arguments and assigns them to the object's attributes. The display_info method is then invoked on the object to display the car's brand and model."
   ]
  },
  {
   "cell_type": "code",
   "execution_count": 3,
   "id": "2bbe304e-be88-4572-97f8-8533f4917230",
   "metadata": {},
   "outputs": [
    {
     "name": "stdout",
     "output_type": "stream",
     "text": [
      "Car brand: Maruti, Model: Zenestilo\n"
     ]
    }
   ],
   "source": [
    "class Car:\n",
    "    def __init__(self, brand, model):\n",
    "        self.brand = brand\n",
    "        self.model = model\n",
    "    def display_info(self):\n",
    "        print(f\"Car brand: {self.brand}, Model: {self.model}\")\n",
    "car = Car(\"Maruti\", \"Zenestilo\")\n",
    "car.display_info()"
   ]
  },
  {
   "cell_type": "markdown",
   "id": "e96d3b50-6bdd-4168-97c1-56db4ecafcb5",
   "metadata": {},
   "source": [
    "## Q3.the BankAccount class has a constructor that takes account_number and balance as arguments and assigns them to the object's attributes. The display_balance method is then invoked on the object to display the account number and balance"
   ]
  },
  {
   "cell_type": "code",
   "execution_count": 14,
   "id": "8b57b791-584c-4c49-9689-39be22afedd1",
   "metadata": {},
   "outputs": [
    {
     "name": "stdout",
     "output_type": "stream",
     "text": [
      "Account Number: 123456789, Balance: $1500.50\n"
     ]
    }
   ],
   "source": [
    "class BankAccount:\n",
    "    def __init__(self, account_number, balance):\n",
    "        self.account_number = account_number\n",
    "        self.balance = balance\n",
    "    def display_balance(self):\n",
    "        print(f\"Account Number: {self.account_number}, Balance: ${self.balance:.2f}\")\n",
    "account = BankAccount(\"123456789\", 1500.50)\n",
    "account.display_balance()"
   ]
  },
  {
   "cell_type": "markdown",
   "id": "941edd8d-9727-4b09-a4ff-bc307a9b8ba2",
   "metadata": {},
   "source": [
    "## Q4.The MobilePhone class has a constructor that takes brand and model as arguments and assigns them to the object's attributes. The make_call method is then invoked on the object to make a call with the phone."
   ]
  },
  {
   "cell_type": "code",
   "execution_count": 5,
   "id": "68b3eaa8-9dde-42a6-8b67-bad64c929ba2",
   "metadata": {},
   "outputs": [
    {
     "name": "stdout",
     "output_type": "stream",
     "text": [
      "Calling 5754321345 using Oppo OppoA79...\n"
     ]
    }
   ],
   "source": [
    "class MobilePhone:\n",
    "    def __init__(self, brand, model):\n",
    "        self.brand = brand\n",
    "        self.model = model\n",
    "    def make_call(self, number):\n",
    "        print(f\"Calling {number} using {self.brand} {self.model}...\")\n",
    "phone = MobilePhone(\"Oppo\", \"OppoA79\")\n",
    "phone.make_call(\"5754321345\")"
   ]
  },
  {
   "cell_type": "markdown",
   "id": "2b7f095c-93db-419b-9305-9ac12f7f723c",
   "metadata": {},
   "source": [
    "## Q5.The Book class has a constructor that takes title and author as arguments and assigns them to the object's attributes. The display_info method is then invoked on the object to display the book's title and author"
   ]
  },
  {
   "cell_type": "code",
   "execution_count": 23,
   "id": "98e0d1b3-ded2-49cf-a13b-808aab608a6a",
   "metadata": {},
   "outputs": [
    {
     "name": "stdout",
     "output_type": "stream",
     "text": [
      "Title: To Kill a Mockingbird, Author: Harper Lee\n"
     ]
    }
   ],
   "source": [
    "class Book:\n",
    "    def __init__(self, title, author):\n",
    "        self.title = title\n",
    "        self.author = author\n",
    "    def display_info(self):\n",
    "        print(f\"Title: {self.title}, Author: {self.author}\")\n",
    "book = Book(\"To Kill a Mockingbird\", \"Harper Lee\")\n",
    "book.display_info()"
   ]
  },
  {
   "cell_type": "markdown",
   "id": "7ff5fbf1-92ca-4986-9bcb-97e071a2cae1",
   "metadata": {},
   "source": [
    "## Q7.Vehicles: Create a base class called Vehicle with attributes such as make, model, and year. Implement two subclasses Car and Motorcycle that inherit from Vehicle. Add additional methods to the subclasses, such as start_engine() and stop_engine(), and handle any specific behavior or rules for each vehicle type."
   ]
  },
  {
   "cell_type": "code",
   "execution_count": 14,
   "id": "5ed6c277-878e-4252-b23e-ea3cb0160c17",
   "metadata": {},
   "outputs": [],
   "source": [
    "class Vehicle:\n",
    "    def __init__(self, make, model, year):\n",
    "        self.make = make\n",
    "        self.model = model\n",
    "        self.year = year\n",
    "    def display_info(self):\n",
    "        print(f\"{self.year} {self.make} {self.model}\")\n",
    "    def start_engine(self):\n",
    "        print(\"Engine started.\")\n",
    "    def stop_engine(self):\n",
    "        print(\"Engine stopped.\")"
   ]
  },
  {
   "cell_type": "code",
   "execution_count": 16,
   "id": "204477a6-4b7f-4e55-95fa-efcf7bf32681",
   "metadata": {},
   "outputs": [],
   "source": [
    "class Car(Vehicle):\n",
    "    def __init__(self, make, model, year, num_doors):\n",
    "        super().__init__(make, model, year)\n",
    "        self.num_doors = num_doors\n",
    "    def start_engine(self):\n",
    "        print(f\"The car's engine is roaring to life!\")\n",
    "    def stop_engine(self):\n",
    "        print(f\"The car's engine has been turned off.\")\n",
    "    def open_trunk(self):\n",
    "        print(\"The car's trunk is now open.\")"
   ]
  },
  {
   "cell_type": "code",
   "execution_count": 18,
   "id": "b4eaffc1-b2e2-4989-ad8e-51af602907b8",
   "metadata": {},
   "outputs": [],
   "source": [
    "class Motorcycle(Vehicle):\n",
    "    def __init__(self, make, model, year, has_sidecar=False):\n",
    "        super().__init__(make, model, year)\n",
    "        self.has_sidecar = has_sidecar\n",
    "    def start_engine(self):\n",
    "        print(f\"The motorcycle's engine is now running with a powerful vroom!\")\n",
    "    def stop_engine(self):\n",
    "        print(f\"The motorcycle's engine is now off.\")\n",
    "    def pop_wheelie(self):\n",
    "        if not self.has_sidecar:\n",
    "            print(\"The motorcycle pops a wheelie!\")\n",
    "        else:\n",
    "            print(\"This motorcycle has a sidecar and can't pop a wheelie.\")"
   ]
  },
  {
   "cell_type": "code",
   "execution_count": 22,
   "id": "b8e31eb2-941c-4e01-8b0c-ebb91b1226b8",
   "metadata": {},
   "outputs": [
    {
     "name": "stdout",
     "output_type": "stream",
     "text": [
      "2021 Toyota Camry\n",
      "2022 Harley-Davidson Street 750\n",
      "The car's engine is roaring to life!\n",
      "The motorcycle's engine is now running with a powerful vroom!\n",
      "The car's engine has been turned off.\n",
      "The motorcycle's engine is now off.\n",
      "The car's trunk is now open.\n",
      "The motorcycle pops a wheelie!\n"
     ]
    }
   ],
   "source": [
    "car = Car(\"Toyota\", \"Camry\", 2021, num_doors=4)\n",
    "motorcycle = Motorcycle(\"Harley-Davidson\", \"Street 750\", 2022, has_sidecar=False)\n",
    "car.display_info()          \n",
    "motorcycle.display_info()   \n",
    "car.start_engine()          \n",
    "motorcycle.start_engine()   \n",
    "car.stop_engine()          \n",
    "motorcycle.stop_engine()   \n",
    "car.open_trunk()           \n",
    "motorcycle.pop_wheelie()   "
   ]
  },
  {
   "cell_type": "markdown",
   "id": "42148951-051f-4c7a-9373-d3a4ba671824",
   "metadata": {},
   "source": [
    "## Q8.Animals: Create a base class called Animal with methods such as eat() and sleep(). Implement two subclasses Dog and Cat that inherit from Animal. Add additional methods to the subclasses, such as bark() for dogs and meow() for cats, and handle any specific behavior or rules for each animal type."
   ]
  },
  {
   "cell_type": "code",
   "execution_count": 54,
   "id": "351c86bf-ec61-4f67-9ff2-b16e00fd4cf6",
   "metadata": {},
   "outputs": [],
   "source": [
    "class Animal:\n",
    "    def eat(self):\n",
    "        print(\"The animal is eating.\")\n",
    "\n",
    "    def sleep(self):\n",
    "        print(\"The animal is sleeping.\")"
   ]
  },
  {
   "cell_type": "code",
   "execution_count": 56,
   "id": "25a9654d-57cd-416a-9722-6bb50a09c0cc",
   "metadata": {},
   "outputs": [],
   "source": [
    "class Dog(Animal):\n",
    "    def __init__(self, name):\n",
    "        self.name = name\n",
    "\n",
    "    def bark(self):\n",
    "        print(f\"{self.name} is barking: Woof! Woof!\")\n",
    "\n",
    "    def fetch(self):\n",
    "        print(f\"{self.name} is fetching the ball.\")\n",
    "\n",
    "    def sleep(self):\n",
    "        print(f\"{self.name} curls up in its bed and goes to sleep.\")"
   ]
  },
  {
   "cell_type": "code",
   "execution_count": 58,
   "id": "95a7e938-ea94-49fb-af43-a76e2747f7ab",
   "metadata": {},
   "outputs": [],
   "source": [
    "class Cat(Animal):\n",
    "    def __init__(self, name):\n",
    "        self.name = name\n",
    "\n",
    "    def meow(self):\n",
    "        print(f\"{self.name} is meowing: Meow!\")\n",
    "\n",
    "    def scratch(self):\n",
    "        print(f\"{self.name} is scratching the furniture.\")\n",
    "\n",
    "    def sleep(self):\n",
    "        print(f\"{self.name} finds a sunny spot and takes a nap.\")"
   ]
  },
  {
   "cell_type": "code",
   "execution_count": 62,
   "id": "51b6faa4-5a5b-4575-a5f9-d48487aad2c1",
   "metadata": {},
   "outputs": [
    {
     "name": "stdout",
     "output_type": "stream",
     "text": [
      "The animal is eating.\n",
      "The animal is eating.\n",
      "Buddy curls up in its bed and goes to sleep.\n",
      "Whiskers finds a sunny spot and takes a nap.\n",
      "Buddy is barking: Woof! Woof!\n",
      "Buddy is fetching the ball.\n",
      "Whiskers is meowing: Meow!\n",
      "Whiskers is scratching the furniture.\n"
     ]
    }
   ],
   "source": [
    "dog = Dog(\"Buddy\")\n",
    "cat = Cat(\"Whiskers\")\n",
    "dog.eat()               \n",
    "cat.eat()               \n",
    "dog.sleep()             \n",
    "cat.sleep()             \n",
    "dog.bark()              \n",
    "dog.fetch()             \n",
    "cat.meow()              \n",
    "cat.scratch()           "
   ]
  },
  {
   "cell_type": "code",
   "execution_count": null,
   "id": "c704751d-ba19-413d-859b-e87b6e17eee7",
   "metadata": {},
   "outputs": [],
   "source": []
  }
 ],
 "metadata": {
  "kernelspec": {
   "display_name": "Python 3 (ipykernel)",
   "language": "python",
   "name": "python3"
  },
  "language_info": {
   "codemirror_mode": {
    "name": "ipython",
    "version": 3
   },
   "file_extension": ".py",
   "mimetype": "text/x-python",
   "name": "python",
   "nbconvert_exporter": "python",
   "pygments_lexer": "ipython3",
   "version": "3.12.4"
  }
 },
 "nbformat": 4,
 "nbformat_minor": 5
}
